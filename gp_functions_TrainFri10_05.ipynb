{
  "nbformat": 4,
  "nbformat_minor": 0,
  "metadata": {
    "colab": {
      "name": "gp_functions-TrainFri10_05.ipynb",
      "version": "0.3.2",
      "provenance": [],
      "collapsed_sections": [
        "cTNxpUckDjYf",
        "RnB9LVO-wKyu",
        "naOj1PEFvo-d",
        "AtEXYxth2bfZ",
        "LeWU0mF6dB2-",
        "sWFPSiSVf24b"
      ],
      "include_colab_link": true
    },
    "language_info": {
      "codemirror_mode": {
        "name": "ipython",
        "version": 3
      },
      "file_extension": ".py",
      "mimetype": "text/x-python",
      "name": "python",
      "nbconvert_exporter": "python",
      "pygments_lexer": "ipython3",
      "version": "3.5.3"
    },
    "kernelspec": {
      "display_name": "Python 3",
      "language": "python",
      "name": "python3"
    }
  },
  "cells": [
    {
      "cell_type": "markdown",
      "metadata": {
        "id": "view-in-github",
        "colab_type": "text"
      },
      "source": [
        "<a href=\"https://colab.research.google.com/github/ngnawejonas/gp_moe/blob/master/gp_functions_TrainFri10_05.ipynb\" target=\"_parent\"><img src=\"https://colab.research.google.com/assets/colab-badge.svg\" alt=\"Open In Colab\"/></a>"
      ]
    },
    {
      "cell_type": "markdown",
      "metadata": {
        "id": "09c3eVqUDjXv",
        "colab_type": "text"
      },
      "source": [
        "https://www.overleaf.com/7889766968wqgtbpbrrkkh <br/>\n",
        "report: https://www.overleaf.com/3871269128ncpcvgbwkrsy"
      ]
    },
    {
      "cell_type": "code",
      "metadata": {
        "id": "n-P91Vx3ENtA",
        "colab_type": "code",
        "colab": {}
      },
      "source": [
        "# !git clone https://github.com/ngnawejonas/gp_moe.git\n",
        "# %cd gp_moe\n",
        "# !pip install pot\n",
        "# !pip install GPy"
      ],
      "execution_count": 0,
      "outputs": []
    },
    {
      "cell_type": "code",
      "metadata": {
        "ExecuteTime": {
          "end_time": "2019-05-10T15:22:49.213252Z",
          "start_time": "2019-05-10T15:22:48.688576Z"
        },
        "colab_type": "code",
        "id": "rG-eKsSTlE82",
        "colab": {}
      },
      "source": [
        "from gp import *\n",
        "# import ot\n",
        "import GPy\n",
        "%matplotlib inline"
      ],
      "execution_count": 0,
      "outputs": []
    },
    {
      "cell_type": "markdown",
      "metadata": {
        "id": "tU60Q-N7mfiI",
        "colab_type": "text"
      },
      "source": [
        "### Barycenter of GMMs"
      ]
    },
    {
      "cell_type": "code",
      "metadata": {
        "ExecuteTime": {
          "end_time": "2019-05-10T15:22:49.410311Z",
          "start_time": "2019-05-10T15:22:49.384457Z"
        },
        "id": "iLRa_R1_DjX_",
        "colab_type": "code",
        "colab": {}
      },
      "source": [
        "def fixed_point_K(gmm, eps=1e-6):\n",
        "    n = gmm.get_params()['n_components']\n",
        "    C_current = gmm.covariances_[0]\n",
        "    precision = eps + 1\n",
        "    n_iter = 0\n",
        "    while precision > eps and n_iter < 100:\n",
        "        C_half = mat_sqrt(C_current)\n",
        "        Sum = np.zeros_like(C_current)            \n",
        "        for j in range(n):\n",
        "            Cov_j = mat_square(gmm.covariances_[j])\n",
        "            sCs = C_half @ Cov_j @ C_half\n",
        "            Sum += (1/n) * mat_sqrt(sCs) \n",
        "#         C_new =  Sum\n",
        "        C_new = (np.linalg.inv(C_half) @ mat_square(Sum) @ np.linalg.inv(C_half))\n",
        "        precision = np.linalg.norm(C_new - C_current)\n",
        "        C_current = C_new\n",
        "        n_iter += 1\n",
        "    #end while\n",
        "    print('n_iter: ', n_iter,', precision: ', precision)\n",
        "    return C_current\n",
        "\n",
        "def barycenter(gmm, fp=False):\n",
        "    n = gmm.get_params()['n_components']        \n",
        "    m = np.zeros_like(gmm.means_[0])\n",
        "    L = np.zeros_like(gmm.covariances_[0])\n",
        "    for j in range(n):\n",
        "        m += (1/n) * gmm.means_[j]\n",
        "        L += (1/n) * mat_sqrt(gmm.covariances_[j])\n",
        "    C = mat_square(L)\n",
        "    if fp:\n",
        "        C  = fixed_point_K(gmm)\n",
        "    return m, C"
      ],
      "execution_count": 0,
      "outputs": []
    },
    {
      "cell_type": "code",
      "metadata": {
        "ExecuteTime": {
          "end_time": "2019-05-09T17:55:42.255114Z",
          "start_time": "2019-05-09T17:55:41.417582Z"
        },
        "id": "Nom-36y6DjYF",
        "colab_type": "code",
        "outputId": "78c3381c-8bb5-4e27-9589-7bf3d32d3699",
        "colab": {
          "base_uri": "https://localhost:8080/",
          "height": 517
        }
      },
      "source": [
        "from matplotlib.colors import LogNorm\n",
        "from sklearn import mixture\n",
        "\n",
        "n_samples = 300\n",
        "\n",
        "# generate random sample, two components\n",
        "np.random.seed(42)\n",
        "\n",
        "# generate spherical data centered on (20, 20)\n",
        "shifted_gaussian1 = np.random.randn(n_samples, 2) + np.array([20, 20])\n",
        "\n",
        "# generate spherical data centered on (20, 20)\n",
        "shifted_gaussian2 = np.random.randn(n_samples, 2) + np.array([0, 20])\n",
        "\n",
        "# generate zero centered stretched Gaussian data\n",
        "C = np.array([[0., -0.7], [3.5, .7]])\n",
        "stretched_gaussian = np.dot(np.random.randn(n_samples, 2), C)\n",
        "\n",
        "# concatenate the two datasets into the final training set\n",
        "X_train = np.vstack([shifted_gaussian1, shifted_gaussian2, stretched_gaussian])\n",
        "\n",
        "# fit a Gaussian Mixture Model with two components\n",
        "gmm = mixture.GaussianMixture(n_components=3, covariance_type='full')\n",
        "gmm.fit(X_train)\n",
        "\n",
        "# display predicted scores by the model as a contour plot\n",
        "x = np.linspace(-20., 30.)\n",
        "y = np.linspace(-20., 40.)\n",
        "X, Y = np.meshgrid(x, y)\n",
        "XX = np.array([X.ravel(), Y.ravel()]).T\n",
        "Z = -gmm.score_samples(XX)\n",
        "Z = Z.reshape(X.shape)\n",
        "\n",
        "plt.figure(figsize=(12,8))\n",
        "CS = plt.contour(X, Y, Z, norm=LogNorm(vmin=1.0, vmax=1000.0),\n",
        "                 levels=np.logspace(0, 3, 10))\n",
        "CB = plt.colorbar(CS, shrink=0.8, extend='both')\n",
        "plt.scatter(X_train[:, 0], X_train[:, 1])\n",
        "###generate barycenter points\n",
        "m_, C_ = barycenter(gmm,fp=False)\n",
        "Xb = multivariateGaussianDraw(m_, C_, ndraws=n_samples)\n",
        "print(Xb.shape)\n",
        "plt.scatter(Xb[:,0], Xb[:,1])\n",
        "##\n",
        "plt.title('Negative log-likelihood predicted by a GMM')\n",
        "plt.axis('tight')\n",
        "plt.show()\n"
      ],
      "execution_count": 0,
      "outputs": [
        {
          "output_type": "stream",
          "text": [
            "(300, 2)\n"
          ],
          "name": "stdout"
        },
        {
          "output_type": "display_data",
          "data": {
            "image/png": "[encoded data removed]",
            "text/plain": [
              "<Figure size 864x576 with 2 Axes>"
            ]
          },
          "metadata": {
            "tags": []
          }
        }
      ]
    },
    {
      "cell_type": "code",
      "metadata": {
        "id": "6i1grbs-O1Tt",
        "colab_type": "code",
        "outputId": "65bdaeab-74ed-463b-8aed-71c626ba8833",
        "colab": {
          "base_uri": "https://localhost:8080/",
          "height": 52
        }
      },
      "source": [
        "gmm.covariances_[2]"
      ],
      "execution_count": 0,
      "outputs": [
        {
          "output_type": "execute_result",
          "data": {
            "text/plain": [
              "array([[13.4599313 ,  2.49152849],\n",
              "       [ 2.49152849,  0.8784688 ]])"
            ]
          },
          "metadata": {
            "tags": []
          },
          "execution_count": 119
        }
      ]
    },
    {
      "cell_type": "code",
      "metadata": {
        "id": "2UTsVk2xO4EU",
        "colab_type": "code",
        "outputId": "8611af08-270f-4a7a-f50f-a6259860b9c7",
        "colab": {
          "base_uri": "https://localhost:8080/",
          "height": 35
        }
      },
      "source": [
        "m, C = barycenter(gmm, fp=True)"
      ],
      "execution_count": 0,
      "outputs": [
        {
          "output_type": "stream",
          "text": [
            "n_iter:  5 , precision:  3.449044266252459e-07\n"
          ],
          "name": "stdout"
        }
      ]
    },
    {
      "cell_type": "code",
      "metadata": {
        "id": "V1wd9s5KPAJx",
        "colab_type": "code",
        "outputId": "0319051c-4d49-4333-9f4a-4940646873b8",
        "colab": {
          "base_uri": "https://localhost:8080/",
          "height": 52
        }
      },
      "source": [
        "C/2"
      ],
      "execution_count": 0,
      "outputs": [
        {
          "output_type": "execute_result",
          "data": {
            "text/plain": [
              "array([[13.38142808,  2.4145592 ],\n",
              "       [ 2.4145592 ,  0.78113715]])"
            ]
          },
          "metadata": {
            "tags": []
          },
          "execution_count": 121
        }
      ]
    },
    {
      "cell_type": "markdown",
      "metadata": {
        "colab_type": "text",
        "id": "0gzLURi6fl8a"
      },
      "source": [
        "### Data"
      ]
    },
    {
      "cell_type": "code",
      "metadata": {
        "ExecuteTime": {
          "end_time": "2019-05-09T17:55:50.621361Z",
          "start_time": "2019-05-09T17:55:50.412948Z"
        },
        "colab_type": "code",
        "id": "F864FnmYRk7I",
        "scrolled": true,
        "outputId": "5f265cdd-4d9b-4449-bb33-16814e90c4fa",
        "colab": {
          "base_uri": "https://localhost:8080/",
          "height": 432
        }
      },
      "source": [
        "# lambda function, call f(x) to generate data\n",
        "#f = lambda x: -np.cos(2*np.pi*x) + 0.5*np.sin(6*np.pi*x)\n",
        "f = lambda x: np.sin(x)\n",
        "N = 120\n",
        "# N equally spaced sample locations \n",
        "X = np.linspace(-np.pi, np.pi, N)[:,None]\n",
        "\n",
        "# y = f(X) + epsilon\n",
        "y = f(X) + np.random.normal(0., 0.1, (N,1)) # note that np.random.normal takes mean and s.d. (not variance), 0.1^2 = 0.01\n",
        "\n",
        "# Setup our figure environment\n",
        "plt.figure(figsize=(18, 7))\n",
        "\n",
        "# # Plot observations\n",
        "plt.plot(X, y, \"kx\", mew=2);\n",
        "\n",
        "# # Annotate plot\n",
        "# plt.xlabel(\"x\"), plt.ylabel(\"f\")\n",
        "# plt.legend(labels=[\"sample points\"]);"
      ],
      "execution_count": 0,
      "outputs": [
        {
          "output_type": "display_data",
          "data": {
            "image/png": "[encoded data removed]",
            "text/plain": [
              "<Figure size 1296x504 with 1 Axes>"
            ]
          },
          "metadata": {
            "tags": []
          }
        }
      ]
    },
    {
      "cell_type": "markdown",
      "metadata": {
        "id": "uqgUPkycmt4p",
        "colab_type": "text"
      },
      "source": [
        "### Distributed GPs class"
      ]
    },
    {
      "cell_type": "code",
      "metadata": {
        "ExecuteTime": {
          "end_time": "2019-05-09T17:55:49.938866Z",
          "start_time": "2019-05-09T17:55:49.479651Z"
        },
        "colab_type": "code",
        "id": "YpTd8gC-Rk6n",
        "colab": {}
      },
      "source": [
        "class DistributedGPRegression():\n",
        "    def __init__(self, X, y, n):\n",
        "        self.n = n  # number of experts\n",
        "        self.Experts = []\n",
        "        self.X = X\n",
        "        self.y = y\n",
        "        for i in range(n):\n",
        "            params = np.array([0, np.log(0.1 + 0.01*i), 0])\n",
        "            kernel = RadialBasisFunction(params)\n",
        "            Xi = self.X[i*(N//n): (i+1)*(N//n)]\n",
        "            yi = self.y[i*(N//n): (i+1)*(N//n)]\n",
        "            gp = GaussianProcessRegression(Xi, yi, kernel)\n",
        "            self.Experts.append(gp)\n",
        "        \n",
        "    def logMl(self, params=None):\n",
        "        f = 0.\n",
        "        for i in range(self.n):\n",
        "            f = f + self.Experts[i].logMarginalLikelihood(params)\n",
        "        return f\n",
        "\n",
        "    def gradLogMl(self, params=None):\n",
        "        gradf = 0.\n",
        "        for i in range(self.n):\n",
        "            gradf = gradf + self.Experts[i].gradLogMarginalLikelihood(params)\n",
        "        return gradf\n",
        "\n",
        "    def train(self, disp=True):  # Optimize the sum of log-marginal likelihood\n",
        "        params = np.random.randn(3,)\n",
        "        res = minimize(self.logMl, params, method='BFGS',\n",
        "                       jac=self.gradLogMl, options={'disp': disp})\n",
        "        # update the experts\n",
        "        for i in range(self.n):\n",
        "            self.Experts[i].k.setParams(res.x)\n",
        "        print(\"Train Successfull!\")\n",
        "\n",
        "    def experts_preds(self, Xa):\n",
        "        \"\"\"returns the predictions m, Cov of the experts on data Xa\n",
        "           for the Cov the cholesky decomposition will be returned\n",
        "        \"\"\"\n",
        "        preds =[]\n",
        "        for i in range(self.n):\n",
        "            m_k, cov_k = self.Experts[i].predict(Xa)\n",
        "            assert is_symmetric(cov_k)\n",
        "            assert is_psd(cov_k, cholesky_test=True)\n",
        "            L_k = mat_sqrt(cov_k)\n",
        "            preds.append((m_k, L_k))\n",
        "        return preds\n",
        "    \n",
        "    def fixed_point_K(self, preds, N, ksi, eps=1e-6):\n",
        "        C_current = np.random.randn(N,N)#np.identity(N)\n",
        "        C_current = (C_current + C_current.T)/2 #--> symmetry\n",
        "        C_current += N*np.identity(N)\n",
        "        precision = eps + 1\n",
        "        n_iter = 0\n",
        "        print('starting iterations...')\n",
        "        while precision > eps and n_iter < 100:\n",
        "            C_half = mat_sqrt(C_current)\n",
        "            Sum = np.zeros((N,N), dtype='complex128')            \n",
        "            for j in range(self.n):\n",
        "                Cov_j = mat_square(preds[j][1])\n",
        "                sCs = C_half @ Cov_j @ C_half\n",
        "#                 print(\"expert\", j, is_psd(sCs), is_psd(sCs, cholesky_test=True), \" S = \", sCs)\n",
        "                try:\n",
        "#                   M =  mat_sqrt(sCs) \n",
        "#                   for i in range(N):\n",
        "#                     M[i] *= ksi[j][i]\n",
        "#                   #\n",
        "#                   Sum += M\n",
        "                  Sum += ksi[j][:,None] * mat_sqrt(sCs) \n",
        "                except:\n",
        "                  Sum += ksi[j] * mat_sqrt(sCs)\n",
        "#             C_new =  Sum\n",
        "            C_new = (np.linalg.inv(C_half) @ mat_square(Sum) @ np.linalg.inv(C_half))\n",
        "            precision = np.linalg.norm(C_new - C_current)\n",
        "            C_current = C_new\n",
        "            n_iter += 1\n",
        "            print('n_iter: ', n_iter,', precision: ', precision)\n",
        "        #end while\n",
        "#         print('n_iter: ', n_iter,', precision: ', precision)\n",
        "        return C_current\n",
        "\n",
        "    \n",
        "    def barycenter(self, Xa):\n",
        "        N, D = Xa.shape\n",
        "        preds = self.experts_preds(Xa)\n",
        "        m = np.zeros(N)\n",
        "        L = np.zeros((N,N))\n",
        "        for j in range(self.n):\n",
        "            m += preds[j][0]\n",
        "            L += preds[j][1]\n",
        "        m = m/self.n\n",
        "        L = L/self.n\n",
        "        C = mat_square(L)\n",
        "#         C  = self.fixed_point_K(preds, N)\n",
        "        return m, C\n",
        "\n",
        "    def gbarycenter(self, Xa, ksi = 'default'):\n",
        "        N, D = Xa.shape\n",
        "        preds = self.experts_preds(Xa)\n",
        "        if ksi is 'default':\n",
        "            ksi = np.ones(self.n)/self.n\n",
        "        elif ksi is 'opt':\n",
        "            ksi = np.zeros((self.n, N))\n",
        "            #prior covariance of matrix of Xa\n",
        "            sigma_ss = np.diag(self.Experts[0].k.covMatrix(Xa))\n",
        "            print(sigma_ss)\n",
        "            for j in range(self.n):\n",
        "              sigma_k_s = np.diag(preds[j][1])\n",
        "              ksi[j] = 0.5 * (np.log(sigma_ss) - np.log(sigma_k_s))\n",
        "            ksi /= ksi.sum(0)\n",
        "#             print(ksi)\n",
        "            assert ((ksi.sum(0)-1)< 1e-7).all()\n",
        "        m = np.zeros(N)\n",
        "        L = np.zeros((N,N), dtype='complex128')\n",
        "        for j in range(self.n):\n",
        "            print(\"shapes \", ksi[j].shape, preds[j][0].shape)\n",
        "            m += ksi[j] * preds[j][0]\n",
        "#             try:\n",
        "#               L += ksi[j][:,None] * preds[j][1]\n",
        "#             except:\n",
        "#               L += ksi[j] * preds[j][1]\n",
        "    \n",
        "#         C = mat_square(L)\n",
        "        C  = self.fixed_point_K(preds, N, ksi)\n",
        "        return m, C\n",
        "    \n",
        "    def predict_poe(self, Xa):\n",
        "        N, D = Xa.shape\n",
        "        sigma_star = np.zeros(N)\n",
        "        sum_star = np.zeros(N)\n",
        "        for i in range(self.n):\n",
        "            m_k, cov_k = self.Experts[i].predict(Xa)\n",
        "            # invert the diagonal of cov\n",
        "            inv_diag = 1/np.diag(cov_k)\n",
        "            sigma_star = sigma_star + inv_diag\n",
        "            sum_star = sum_star + inv_diag * m_k\n",
        "            \n",
        "        sigma_star = 1 / sigma_star\n",
        "        print(\"mean_sigma* = \", sigma_star.mean(), \", std_sigma* = \", sigma_star.std())\n",
        "        cov_star = sigma_star * np.identity(N)\n",
        "        m_star = sigma_star * sum_star\n",
        "        return m_star.flatten(), cov_star\n",
        "\n",
        "    def predict_gpoe(self, Xa, betas='default'):\n",
        "        if betas is 'default':\n",
        "            betas = np.ones(self.n)\n",
        "        N, D = Xa.shape\n",
        "        sigma_star = np.zeros(N)\n",
        "        sum_star = np.zeros((N))\n",
        "        for i in range(self.n):\n",
        "            m_k, cov_k = self.Experts[i].predict(Xa)\n",
        "            inv_diag = 1/np.diag(cov_k)\n",
        "            sigma_star = sigma_star + betas[i]*inv_diag\n",
        "            sum_star = sum_star + betas[i]*m_k * inv_diag\n",
        "\n",
        "        sigma_star = 1 / sigma_star\n",
        "        print(\"mean_sigma* = \", sigma_star.mean(), \", std_sigma* = \", sigma_star.std())\n",
        "        m_star = sigma_star * sum_star\n",
        "        cov_star = sigma_star * np.identity(N)\n",
        "        return m_star.flatten(), cov_star\n",
        "\n",
        "    def predict_bcm(self, Xa):\n",
        "        N, D = Xa.shape\n",
        "        sigma_star = np.zeros(N)\n",
        "        sum_star = np.zeros(N)\n",
        "        for i in range(self.n):\n",
        "            m_k, cov_k = self.Experts[i].predict(Xa)\n",
        "            # invert the diagonal of cov\n",
        "            inv_diag = 1/np.diag(cov_k)\n",
        "            sigma_star =  sigma_star + inv_diag\n",
        "            sum_star = sum_star + m_k * inv_diag\n",
        "            #\n",
        "        sigma_prior = np.diag(self.Experts[0].k.covMatrix(Xa))\n",
        "        sigma_star = sigma_star + (1-self.n)/sigma_prior\n",
        "        sigma_star = 1/sigma_star\n",
        "        print(\"mean_sigma* = \", sigma_star.mean(), \", std_sigma* = \", sigma_star.std())\n",
        "        m_star = sigma_star * sum_star\n",
        "        cov_star = sigma_star * np.identity(N)\n",
        "        return m_star, cov_star\n",
        "\n",
        "    def predict_rbcm(self, Xa):\n",
        "        N, D = Xa.shape\n",
        "        sigma_star = np.zeros(N)\n",
        "        sum_star = np.zeros(N)\n",
        "        sigma_prior = np.diag(self.Experts[0].k.covMatrix(Xa))\n",
        "        bconst = 0.5 * np.log(sigma_prior)\n",
        "        sum_betas = 0\n",
        "        for i in range(self.n):\n",
        "            m_k, cov_k = self.Experts[i].predict(Xa)\n",
        "            # invert the diagonal of cov\n",
        "            inv_diag = 1/np.diag(cov_k)\n",
        "            beta = bconst - 0.5 * np.log(np.diag(cov_k))\n",
        "            sum_betas = sum_betas + beta\n",
        "            sigma_star = sigma_star + beta * inv_diag\n",
        "            sum_star = sum_star + beta * m_k * inv_diag\n",
        "            #\n",
        "\n",
        "        sigma_star = sigma_star + (1-sum_betas) * (1/sigma_prior)\n",
        "        sigma_star = 1/sigma_star\n",
        "        print(\"mean_sigma* = \", sigma_star.mean(), \", std_sigma* = \", sigma_star.std())\n",
        "        m_star = sigma_star * sum_star\n",
        "        cov_star = sigma_star * np.identity(N)\n",
        "        return m_star, cov_star\n",
        "\n",
        "    def full_gp(self):\n",
        "        params = np.array([0, np.log(0.1 + 0.01), 0])\n",
        "        kernel = RadialBasisFunction(params)\n",
        "        fgp = GaussianProcessRegression(self.X, self.y, kernel)\n",
        "        opt_params = fgp.optimize(params)\n",
        "        fgp.KMat(self.X, opt_params)\n",
        "        return fgp\n",
        "\n",
        "\n",
        "if __name__ == '__main__':\n",
        "\n",
        "    np.random.seed(42)\n",
        "\n",
        "    ##########################\n",
        "    # You can put your tests here - marking\n",
        "    # will be based on importing this code and calling\n",
        "    # specific functions with custom input.\n",
        "    ##########################"
      ],
      "execution_count": 0,
      "outputs": []
    },
    {
      "cell_type": "markdown",
      "metadata": {
        "id": "I12ZBEb-DjZP",
        "colab_type": "text"
      },
      "source": [
        "## Distributed GP"
      ]
    },
    {
      "cell_type": "code",
      "metadata": {
        "ExecuteTime": {
          "end_time": "2019-05-09T18:00:50.246862Z",
          "start_time": "2019-05-09T18:00:50.221851Z"
        },
        "colab_type": "code",
        "id": "Y4aco3wfRk7P",
        "outputId": "7e2ac459-6baa-4c48-a39d-b720abc1a0d8",
        "colab": {
          "base_uri": "https://localhost:8080/",
          "height": 212
        }
      },
      "source": [
        "n = 3\n",
        "dgp =  DistributedGPRegression(X,y,n)\n",
        "full_gp = dgp.full_gp()\n",
        "dgp.train()\n",
        "# print(dgp.Experts[0].k.getParams())\n",
        "# np.exp(dgp.Experts[0].k.getParams())\n",
        "# New test points to sample function from\n",
        "N = 100\n",
        "Xtest = np.linspace(-5, 5, N)[:, None]"
      ],
      "execution_count": 0,
      "outputs": [
        {
          "output_type": "stream",
          "text": [
            "Optimization terminated successfully.\n",
            "         Current function value: -82.643611\n",
            "         Iterations: 15\n",
            "         Function evaluations: 24\n",
            "         Gradient evaluations: 24\n",
            "Optimization terminated successfully.\n",
            "         Current function value: -74.266668\n",
            "         Iterations: 10\n",
            "         Function evaluations: 18\n",
            "         Gradient evaluations: 18\n",
            "Train Successfull!\n"
          ],
          "name": "stdout"
        }
      ]
    },
    {
      "cell_type": "code",
      "metadata": {
        "ExecuteTime": {
          "end_time": "2019-05-09T18:01:07.790211Z",
          "start_time": "2019-05-09T18:01:07.427112Z"
        },
        "id": "Imz4siC0DjZ_",
        "colab_type": "code",
        "outputId": "08109bbc-d6a4-46bf-a9e5-ff61a73e740a",
        "colab": {
          "base_uri": "https://localhost:8080/",
          "height": 450
        }
      },
      "source": [
        "mean, Cov = dgp.Experts[0].predict(Xtest)\n",
        "# Setup the figure environment\n",
        "plt.figure(figsize=(18, 7))\n",
        "# Plot the GP fit mean and covariance\n",
        "plot_dgp(Xtest, mean.reshape(-1,1), Cov, 0, 0, training_points=(X,y), full=False)\n",
        "# plt.plot(X, y, \"kx\", mew=2);\n",
        "plt.ylim(-2,2)"
      ],
      "execution_count": 0,
      "outputs": [
        {
          "output_type": "execute_result",
          "data": {
            "text/plain": [
              "(-2, 2)"
            ]
          },
          "metadata": {
            "tags": []
          },
          "execution_count": 125
        },
        {
          "output_type": "display_data",
          "data": {
            "image/png": "[encoded data removed]",
            "text/plain": [
              "<Figure size 1296x504 with 1 Axes>"
            ]
          },
          "metadata": {
            "tags": []
          }
        }
      ]
    },
    {
      "cell_type": "markdown",
      "metadata": {
        "id": "PZdUa-oyDjaD",
        "colab_type": "text"
      },
      "source": [
        "## Barycenter "
      ]
    },
    {
      "cell_type": "code",
      "metadata": {
        "id": "ozfmrPoVIEMW",
        "colab_type": "code",
        "outputId": "94606b78-12bc-4da7-a94c-2c770fcd18aa",
        "colab": {
          "base_uri": "https://localhost:8080/",
          "height": 35
        }
      },
      "source": [
        "dgp.Experts[0].k.getParamsExp()[0] + dgp.Experts[0].k.getParamsExp()[2]"
      ],
      "execution_count": 0,
      "outputs": [
        {
          "output_type": "execute_result",
          "data": {
            "text/plain": [
              "0.7712762913672194"
            ]
          },
          "metadata": {
            "tags": []
          },
          "execution_count": 137
        }
      ]
    },
    {
      "cell_type": "code",
      "metadata": {
        "ExecuteTime": {
          "end_time": "2019-05-09T18:01:08.400771Z",
          "start_time": "2019-05-09T18:01:07.899570Z"
        },
        "id": "0pD7H225DjaE",
        "colab_type": "code",
        "outputId": "b7ad8502-dbe7-41ee-db36-2eb07a401e63",
        "colab": {
          "base_uri": "https://localhost:8080/",
          "height": 3562
        }
      },
      "source": [
        "# Full GP\n",
        "fullmean, fullCov = full_gp.predict(Xtest)\n",
        "#\n",
        "ksi = np.random.rand(dgp.n) #random weights\n",
        "ksi /= ksi.sum()\n",
        "# print('experts coefs = ', ksi)\n",
        "# ksi = np.zeros((dgp.n, N))\n",
        "# for j in range(dgp.n):\n",
        "#     ksi[j,j*(N//dgp.n):(j+1)*(N//dgp.n)] = 1\n",
        "\n",
        "# Get mean and covariance for default all weights = 1/n\n",
        "default_mean, default_Cov = dgp.gbarycenter(Xtest) \n",
        "\n",
        "# opt_mean, opt_Cov = dgp.gbarycenter(Xtest,ksi='opt')\n",
        "mean, Cov = dgp.gbarycenter(Xtest,ksi='opt')\n",
        "##############################\n",
        "# plt.figure(figsize=(10,6))\n",
        "# plot_dgp(Xtest, opt_mean.reshape(-1,1), opt_Cov, 0, 0, training_points=(X,y), full=False)\n",
        "# # plt.plot(X, y, \"kx\", mew=2);\n",
        "# plt.ylim(-2,2)\n",
        "plt.figure(figsize=(10,6))\n",
        "plot_dgp(Xtest, mean.reshape(-1,1), Cov, 0, 0, training_points=(X,y), full=False)\n",
        "# plt.plot(X, y, \"kx\", mew=2);\n",
        "plt.title(\"random weights\");\n",
        "plt.ylim(-2,2)\n",
        "plt.figure(figsize=(10,6))\n",
        "plot_dgp(Xtest, default_mean.reshape(-1,1), default_Cov, 0, 0, training_points=(X,y), full=False)\n",
        "# plt.plot(X, y, \"kx\", mew=2);\n",
        "plt.ylim(-2,2)\n",
        "plt.title(\"default weights = 1/n\");"
      ],
      "execution_count": 0,
      "outputs": [
        {
          "output_type": "stream",
          "text": [
            "shapes  () (100,)\n",
            "shapes  () (100,)\n",
            "shapes  () (100,)\n",
            "starting iterations...\n",
            "n_iter:  1 , precision:  1001.9422617097158\n",
            "n_iter:  2 , precision:  0.6121020953885582\n",
            "n_iter:  3 , precision:  0.09865847687174019\n",
            "n_iter:  4 , precision:  0.04260574173634464\n",
            "n_iter:  5 , precision:  0.021498759127563983\n",
            "n_iter:  6 , precision:  0.01199984114565332\n",
            "n_iter:  7 , precision:  0.007192716748060446\n",
            "n_iter:  8 , precision:  0.0044723658150790015\n",
            "n_iter:  9 , precision:  0.0028189873622568758\n",
            "n_iter:  10 , precision:  0.0017813862536646898\n",
            "n_iter:  11 , precision:  0.0011238589409239806\n",
            "n_iter:  12 , precision:  0.0007070906776360775\n",
            "n_iter:  13 , precision:  0.000443696655498286\n",
            "n_iter:  14 , precision:  0.0002778069764997116\n",
            "n_iter:  15 , precision:  0.00017364558918792273\n",
            "n_iter:  16 , precision:  0.00010840192001629995\n",
            "n_iter:  17 , precision:  6.76102014386857e-05\n",
            "n_iter:  18 , precision:  4.214074031784191e-05\n",
            "n_iter:  19 , precision:  2.6253631034411496e-05\n",
            "n_iter:  20 , precision:  1.635059078118941e-05\n",
            "n_iter:  21 , precision:  1.0180681761458925e-05\n",
            "n_iter:  22 , precision:  6.337963005314892e-06\n",
            "n_iter:  23 , precision:  3.9452375190885355e-06\n",
            "n_iter:  24 , precision:  2.455625342956688e-06\n",
            "n_iter:  25 , precision:  1.5283646322446145e-06\n",
            "n_iter:  26 , precision:  9.512070495470559e-07\n",
            "[0.77127629 0.77127629 0.77127629 0.77127629 0.77127629 0.77127629\n",
            " 0.77127629 0.77127629 0.77127629 0.77127629 0.77127629 0.77127629\n",
            " 0.77127629 0.77127629 0.77127629 0.77127629 0.77127629 0.77127629\n",
            " 0.77127629 0.77127629 0.77127629 0.77127629 0.77127629 0.77127629\n",
            " 0.77127629 0.77127629 0.77127629 0.77127629 0.77127629 0.77127629\n",
            " 0.77127629 0.77127629 0.77127629 0.77127629 0.77127629 0.77127629\n",
            " 0.77127629 0.77127629 0.77127629 0.77127629 0.77127629 0.77127629\n",
            " 0.77127629 0.77127629 0.77127629 0.77127629 0.77127629 0.77127629\n",
            " 0.77127629 0.77127629 0.77127629 0.77127629 0.77127629 0.77127629\n",
            " 0.77127629 0.77127629 0.77127629 0.77127629 0.77127629 0.77127629\n",
            " 0.77127629 0.77127629 0.77127629 0.77127629 0.77127629 0.77127629\n",
            " 0.77127629 0.77127629 0.77127629 0.77127629 0.77127629 0.77127629\n",
            " 0.77127629 0.77127629 0.77127629 0.77127629 0.77127629 0.77127629\n",
            " 0.77127629 0.77127629 0.77127629 0.77127629 0.77127629 0.77127629\n",
            " 0.77127629 0.77127629 0.77127629 0.77127629 0.77127629 0.77127629\n",
            " 0.77127629 0.77127629 0.77127629 0.77127629 0.77127629 0.77127629\n",
            " 0.77127629 0.77127629 0.77127629 0.77127629]\n",
            "shapes  (100,) (100,)\n",
            "shapes  (100,) (100,)\n",
            "shapes  (100,) (100,)\n",
            "starting iterations...\n",
            "n_iter:  1 , precision: "
          ],
          "name": "stdout"
        },
        {
          "output_type": "stream",
          "text": [
            " /usr/local/lib/python3.6/dist-packages/ipykernel_launcher.py:109: ComplexWarning:Casting complex values to real discards the imaginary part\n"
          ],
          "name": "stderr"
        },
        {
          "output_type": "stream",
          "text": [
            " 1002.0377285776057\n",
            "n_iter:  2 , precision:  1.6286046129186476\n",
            "n_iter:  3 , precision:  4.479357955480198\n",
            "n_iter:  4 , precision:  32.50275914387743\n",
            "n_iter:  5 , precision:  241.97398450791226\n",
            "n_iter:  6 , precision:  1779.6290978245167\n",
            "n_iter:  7 , precision:  22586.510391816537\n",
            "n_iter:  8 , precision:  1183510.795523969\n",
            "n_iter:  9 , precision:  180423861.49387246\n",
            "n_iter:  10 , precision:  8024178051.882636\n",
            "n_iter:  11 , precision:  79155543271.42618\n",
            "n_iter:  12 , precision:  72205962532.61345\n",
            "n_iter:  13 , precision:  29450927264.566223\n",
            "n_iter:  14 , precision:  742929379906.3021\n",
            "n_iter:  15 , precision:  739151024468.3812\n",
            "n_iter:  16 , precision:  158781473783.5702\n",
            "n_iter:  17 , precision:  154687105405.8176\n",
            "n_iter:  18 , precision:  319779345066.7692\n",
            "n_iter:  19 , precision:  316110707918.41925\n",
            "n_iter:  20 , precision:  69245510690.26778\n",
            "n_iter:  21 , precision:  351894846961.77203\n",
            "n_iter:  22 , precision:  1937859646525.3943\n",
            "n_iter:  23 , precision:  1877930445310.8594\n",
            "n_iter:  24 , precision:  1203087593957.7441\n",
            "n_iter:  25 , precision:  3345540519963.1997\n",
            "n_iter:  26 , precision:  2839426800150.1714\n",
            "n_iter:  27 , precision:  47119333694.13992\n",
            "n_iter:  28 , precision:  557399431153.5557\n",
            "n_iter:  29 , precision:  560188532947.4984\n",
            "n_iter:  30 , precision:  133960066518.66891\n",
            "n_iter:  31 , precision:  149326037009.02222\n",
            "n_iter:  32 , precision:  1457370119516.6543\n",
            "n_iter:  33 , precision:  1503523751221.1045\n",
            "n_iter:  34 , precision:  265886003587.79163\n",
            "n_iter:  35 , precision:  177991506419.8284\n",
            "n_iter:  36 , precision:  207576775655.28342\n",
            "n_iter:  37 , precision:  481982464539.0887\n",
            "n_iter:  38 , precision:  483745437955.2483\n",
            "n_iter:  39 , precision:  444597078341.5428\n",
            "n_iter:  40 , precision:  340751758669.7047\n",
            "n_iter:  41 , precision:  287606827135.7888\n",
            "n_iter:  42 , precision:  563375206332.1678\n",
            "n_iter:  43 , precision:  503917280303.7576\n",
            "n_iter:  44 , precision:  279345413231.2372\n",
            "n_iter:  45 , precision:  320749912971.6172\n",
            "n_iter:  46 , precision:  359805893460.4\n",
            "n_iter:  47 , precision:  333600013710.6473\n",
            "n_iter:  48 , precision:  184796235353.7656\n",
            "n_iter:  49 , precision:  184905064321.3932\n",
            "n_iter:  50 , precision:  658890769944.5052\n",
            "n_iter:  51 , precision:  696740515323.7391\n",
            "n_iter:  52 , precision:  457142316977.43195\n",
            "n_iter:  53 , precision:  358442038895.3001\n",
            "n_iter:  54 , precision:  279392020277.48834\n",
            "n_iter:  55 , precision:  368180493424.3288\n",
            "n_iter:  56 , precision:  1001788227591.1437\n",
            "n_iter:  57 , precision:  1001799910971.0085\n",
            "n_iter:  58 , precision:  130630911303.1241\n",
            "n_iter:  59 , precision:  107452666656.82108\n",
            "n_iter:  60 , precision:  212075184869.1463\n",
            "n_iter:  61 , precision:  249325145587.98135\n",
            "n_iter:  62 , precision:  189295602254.2689\n",
            "n_iter:  63 , precision:  170930108994.49768\n",
            "n_iter:  64 , precision:  150627709573.6756\n",
            "n_iter:  65 , precision:  144708597484.32437\n",
            "n_iter:  66 , precision:  600093126269.5234\n",
            "n_iter:  67 , precision:  600587052501.7524\n",
            "n_iter:  68 , precision:  2123937831192.4758\n",
            "n_iter:  69 , precision:  2144559276240.8215\n",
            "n_iter:  70 , precision:  336334986983.8198\n",
            "n_iter:  71 , precision:  69256825969.57025\n",
            "n_iter:  72 , precision:  428753340697.75806\n",
            "n_iter:  73 , precision:  455173679981.7138\n",
            "n_iter:  74 , precision:  234666380312.2083\n",
            "n_iter:  75 , precision:  186736385353.6954\n",
            "n_iter:  76 , precision:  1475793280600.0486\n",
            "n_iter:  77 , precision:  2857869814854.9316\n",
            "n_iter:  78 , precision:  2502923029908.1406\n",
            "n_iter:  79 , precision:  378125161522.74005\n",
            "n_iter:  80 , precision:  571037147095.1564\n",
            "n_iter:  81 , precision:  665672434917.0172\n",
            "n_iter:  82 , precision:  357123710082.6828\n",
            "n_iter:  83 , precision:  114883280877.61801\n",
            "n_iter:  84 , precision:  164571677943.6278\n",
            "n_iter:  85 , precision:  598927153617.8752\n",
            "n_iter:  86 , precision:  620068453325.3367\n",
            "n_iter:  87 , precision:  250431997232.0098\n",
            "n_iter:  88 , precision:  1528798195408.1985\n",
            "n_iter:  89 , precision:  1705606867103.6755\n",
            "n_iter:  90 , precision:  523133579358.7913\n",
            "n_iter:  91 , precision:  550124275877.0775\n",
            "n_iter:  92 , precision:  579456907788.1112\n",
            "n_iter:  93 , precision:  162793713995.86703\n",
            "n_iter:  94 , precision:  258634593861.78503\n",
            "n_iter:  95 , precision:  2090956505731.5981\n",
            "n_iter:  96 , precision:  2050358642461.3015\n",
            "n_iter:  97 , precision:  185191173685.07513\n",
            "n_iter:  98 , precision:  310571835779.41895\n",
            "n_iter:  99 , precision:  368335334992.8995\n",
            "n_iter:  100 , precision:  657202378335.4298\n"
          ],
          "name": "stdout"
        },
        {
          "output_type": "stream",
          "text": [
            " /usr/local/lib/python3.6/dist-packages/matplotlib/axes/_axes.py:5108: ComplexWarning:Casting complex values to real discards the imaginary part\n",
            " /usr/local/lib/python3.6/dist-packages/matplotlib/axes/_axes.py:5109: ComplexWarning:Casting complex values to real discards the imaginary part\n",
            " /usr/local/lib/python3.6/dist-packages/matplotlib/axes/_axes.py:5112: ComplexWarning:Casting complex values to real discards the imaginary part\n",
            " /usr/local/lib/python3.6/dist-packages/matplotlib/axes/_axes.py:5114: ComplexWarning:Casting complex values to real discards the imaginary part\n",
            " /usr/local/lib/python3.6/dist-packages/numpy/core/numeric.py:538: ComplexWarning:Casting complex values to real discards the imaginary part\n"
          ],
          "name": "stderr"
        },
        {
          "output_type": "display_data",
          "data": {
            "image/png": "[encoded data removed]",
            "text/plain": [
              "<Figure size 720x432 with 1 Axes>"
            ]
          },
          "metadata": {
            "tags": []
          }
        },
        {
          "output_type": "display_data",
          "data": {
            "image/png": "[encoded data removed]",
            "text/plain": [
              "<Figure size 720x432 with 1 Axes>"
            ]
          },
          "metadata": {
            "tags": []
          }
        }
      ]
    },
    {
      "cell_type": "code",
      "metadata": {
        "ExecuteTime": {
          "end_time": "2019-05-09T18:01:38.420657Z",
          "start_time": "2019-05-09T18:01:38.396995Z"
        },
        "id": "36YCG7N9DjaM",
        "colab_type": "code",
        "colab": {}
      },
      "source": [
        "# Setup the figure environment\n",
        "plt.figure(figsize=(18, 7))\n",
        "\n",
        "# Plot the GP fit mean and covariance\n",
        "plot_dgp(Xtest, mean.reshape(-1,1), Cov, fullmean.reshape(-1,1), fullCov, training_points=(X,y))\n",
        "# plt.plot(X, y, \"kx\", mew=2);\n",
        "plt.ylim(-2,2)\n",
        "# xv = [X.min() + (X.max()-X.min())*j/(n-1) for j in range(dgp.n)]\n",
        "\n",
        "# plt.vlines(xv, -2, 2);"
      ],
      "execution_count": 0,
      "outputs": []
    },
    {
      "cell_type": "markdown",
      "metadata": {
        "id": "cTNxpUckDjYf",
        "colab_type": "text"
      },
      "source": [
        "## GP regression using GPy"
      ]
    },
    {
      "cell_type": "code",
      "metadata": {
        "ExecuteTime": {
          "end_time": "2019-05-09T17:55:53.884820Z",
          "start_time": "2019-05-09T17:55:53.882544Z"
        },
        "id": "yvS3Y_B6DjYh",
        "colab_type": "code",
        "colab": {}
      },
      "source": [
        "# !pip3 install GPy"
      ],
      "execution_count": 0,
      "outputs": []
    },
    {
      "cell_type": "code",
      "metadata": {
        "ExecuteTime": {
          "end_time": "2019-05-09T23:35:11.649601Z",
          "start_time": "2019-05-09T23:35:11.560389Z"
        },
        "id": "Ld3_qS85DjYn",
        "colab_type": "code",
        "colab": {}
      },
      "source": [
        "#import GPy\n",
        "import GPy \n",
        "#create kernel\n",
        "k = GPy.kern.RBF(1, variance=1., lengthscale=0.1, name=\"rbf\")\n",
        "#fit\n",
        "gpmodel = GPy.models.GPRegression(X, y, k)\n",
        "gpmodel.optimize();"
      ],
      "execution_count": 0,
      "outputs": []
    },
    {
      "cell_type": "code",
      "metadata": {
        "ExecuteTime": {
          "end_time": "2019-05-09T18:05:39.799582Z",
          "start_time": "2019-05-09T18:05:39.793192Z"
        },
        "id": "36K47LcQDjYs",
        "colab_type": "code",
        "colab": {}
      },
      "source": [
        "# New test points to sample function from\n",
        "N = 100\n",
        "Xtest = np.linspace(-5, 5, N)[:, None]\n",
        "# Use GPy model to calculate the mean and covariance of the fit at Xtest\n",
        "mean, Cov = gpmodel.predict(Xtest, full_cov=True)"
      ],
      "execution_count": 0,
      "outputs": []
    },
    {
      "cell_type": "code",
      "metadata": {
        "ExecuteTime": {
          "end_time": "2019-05-09T18:05:40.814237Z",
          "start_time": "2019-05-09T18:05:40.565234Z"
        },
        "id": "k9Cmh9k3DjY3",
        "colab_type": "code",
        "colab": {}
      },
      "source": [
        "# Setup the figure environment\n",
        "plt.figure(figsize=(18, 7))\n",
        "# Plot the GP fit mean and covariance\n",
        "plot_dgp(Xtest, mean.reshape(-1,1), Cov, 0, 0, training_points=(X,y), full=False)\n",
        "# plt.plot(X, y, \"kx\", mew=2);\n",
        "plt.ylim(-2,2)# Plot the GP fit mean and covariance\n",
        "plt.title(\"GPy regression model fit\");"
      ],
      "execution_count": 0,
      "outputs": []
    },
    {
      "cell_type": "code",
      "metadata": {
        "ExecuteTime": {
          "end_time": "2019-05-09T23:25:26.860194Z",
          "start_time": "2019-05-09T23:25:26.852104Z"
        },
        "id": "8enfY_6gDjY-",
        "colab_type": "code",
        "colab": {}
      },
      "source": [
        "class DGP(GPy.Model): #TODO\n",
        "    def __init__(self, params, name='rosenbrock'):\n",
        "        super(DGP, self).__init__(name=name)\n",
        "        self.params = GPy.Param(\"input\", params)\n",
        "        self.add_parameter(self.params)\n",
        "    def log_likelihood(self):\n",
        "        return -scipy.optimize.rosen(self.params)\n",
        "    def parameters_changed(self):\n",
        "        self.params.gradient = -scipy.optimize.rosen_der(self.params)"
      ],
      "execution_count": 0,
      "outputs": []
    },
    {
      "cell_type": "code",
      "metadata": {
        "ExecuteTime": {
          "end_time": "2019-05-10T15:35:02.329572Z",
          "start_time": "2019-05-10T15:35:02.278630Z"
        },
        "id": "w4cJi2daDjZD",
        "colab_type": "code",
        "colab": {}
      },
      "source": [
        "\n",
        "# Author: Remi Flamary <remi.flamary@unice.fr>\n",
        "#\n",
        "# License: MIT License\n",
        "\n",
        "# import numpy as np\n",
        "# import matplotlib.pylab as pl\n",
        "# import ot"
      ],
      "execution_count": 0,
      "outputs": []
    },
    {
      "cell_type": "markdown",
      "metadata": {
        "colab_type": "text",
        "id": "RnB9LVO-wKyu"
      },
      "source": [
        "# Product of Experts"
      ]
    },
    {
      "cell_type": "code",
      "metadata": {
        "ExecuteTime": {
          "end_time": "2019-05-06T09:22:36.743075Z",
          "start_time": "2019-05-06T09:22:36.223621Z"
        },
        "colab_type": "code",
        "id": "MPHTRM_8Rk7c",
        "colab": {}
      },
      "source": [
        "# New test points to sample function from\n",
        "Xtest = np.linspace(-5, 5, 100)[:, None]\n",
        "# Get mean and covariance of optimised GP\n",
        "mean, Cov = dgp.predict_gpoe(Xtest)\n",
        "# Full GP\n",
        "fullmean, fullCov = full_gp.predict(Xtest)"
      ],
      "execution_count": 0,
      "outputs": []
    },
    {
      "cell_type": "code",
      "metadata": {
        "ExecuteTime": {
          "end_time": "2019-05-06T09:22:37.321927Z",
          "start_time": "2019-05-06T09:22:37.141223Z"
        },
        "colab_type": "code",
        "id": "OijwdolNRk7j",
        "colab": {}
      },
      "source": [
        "# Setup the figure environment\n",
        "plt.figure(figsize=(18, 7))\n",
        "\n",
        "# Plot the GP fit mean and covariance\n",
        "plot_dgp(Xtest, mean.reshape(-1,1), Cov, fullmean.reshape(-1,1), fullCov, training_points=(X,y))\n",
        "# plt.plot(X, y, \"kx\", mew=2);\n",
        "plt.ylim(-2,2)\n",
        "# xv = [X.min() + (X.max()-X.min())*j/(n-1) for j in range(dgp.n)]\n",
        "\n",
        "# plt.vlines(xv, -2, 2);"
      ],
      "execution_count": 0,
      "outputs": []
    },
    {
      "cell_type": "markdown",
      "metadata": {
        "colab_type": "text",
        "id": "naOj1PEFvo-d"
      },
      "source": [
        "# Generalized Product of Experts"
      ]
    },
    {
      "cell_type": "code",
      "metadata": {
        "ExecuteTime": {
          "end_time": "2019-05-05T21:43:54.124561Z",
          "start_time": "2019-05-05T21:43:51.178Z"
        },
        "colab_type": "code",
        "id": "YpSJR1OCvo_T",
        "colab": {}
      },
      "source": [
        "## Define Weights \n",
        "betas = [1/dgp.n]*dgp.n\n",
        "# New test points to sample function from\n",
        "Xtest = np.linspace(-5, 5, 100)[:, None]\n",
        "# Get mean and covariance of optimised GP\n",
        "mean, Cov = dgp.predict_gpoe(Xtest, betas)\n",
        "# Full GP\n",
        "fullmean, fullCov = full_gp.predict(Xtest)"
      ],
      "execution_count": 0,
      "outputs": []
    },
    {
      "cell_type": "code",
      "metadata": {
        "ExecuteTime": {
          "end_time": "2019-04-18T23:26:45.250459Z",
          "start_time": "2019-04-18T23:26:45.075793Z"
        },
        "colab_type": "code",
        "id": "LtEAelDvvo_j",
        "colab": {}
      },
      "source": [
        "# Setup the figure environment\n",
        "plt.figure(figsize=(18, 7))\n",
        "\n",
        "# Plot the GP fit mean and covariance\n",
        "plot_dgp(Xtest, mean.reshape(-1,1), Cov, fullmean.reshape(-1,1), fullCov, training_points=(X,y))\n",
        "# plt.plot(X, y, \"kx\", mew=2);\n",
        "plt.ylim(-2,2)\n",
        "xv = [X.min() + (X.max()-X.min())*j/(n-1) for j in range(dgp.n)]\n",
        "\n",
        "# plt.vlines(xv, -2, 2);"
      ],
      "execution_count": 0,
      "outputs": []
    },
    {
      "cell_type": "markdown",
      "metadata": {
        "colab_type": "text",
        "id": "AtEXYxth2bfZ"
      },
      "source": [
        "# BCM"
      ]
    },
    {
      "cell_type": "code",
      "metadata": {
        "ExecuteTime": {
          "end_time": "2019-03-04T17:13:54.887050Z",
          "start_time": "2019-03-04T17:13:53.802746Z"
        },
        "colab_type": "code",
        "id": "GckXk6nHcjW-",
        "colab": {}
      },
      "source": [
        "# New test points to sample function from\n",
        "Xtest = np.linspace(-5, 5, 100)[:, None]\n",
        "# Get mean and covariance of optimised GP\n",
        "mean, Cov = dgp.predict_bcm(Xtest)\n",
        "# Full GP\n",
        "fullmean, fullCov = full_gp.predict(Xtest)"
      ],
      "execution_count": 0,
      "outputs": []
    },
    {
      "cell_type": "code",
      "metadata": {
        "ExecuteTime": {
          "end_time": "2019-03-04T17:13:55.202078Z",
          "start_time": "2019-03-04T17:13:54.959972Z"
        },
        "colab_type": "code",
        "id": "PEXIChyIcjXb",
        "colab": {}
      },
      "source": [
        "# Setup the figure environment\n",
        "plt.figure(figsize=(18, 7))\n",
        "\n",
        "# Plot the GP fit mean and covariance\n",
        "plot_dgp(Xtest, mean.reshape(-1,1), Cov, fullmean.reshape(-1,1), fullCov, training_points=(X,y))\n",
        "# plt.plot(X, y, \"kx\", mew=2);\n",
        "plt.ylim(-2,2)\n",
        "xv = [X.min() + (X.max()-X.min())*j/(n-1) for j in range(dgp.n)]\n",
        "\n",
        "# plt.vlines(xv, -2, 2);"
      ],
      "execution_count": 0,
      "outputs": []
    },
    {
      "cell_type": "code",
      "metadata": {
        "colab_type": "code",
        "id": "r2DHFAnM2faq",
        "colab": {}
      },
      "source": [
        ""
      ],
      "execution_count": 0,
      "outputs": []
    },
    {
      "cell_type": "markdown",
      "metadata": {
        "colab_type": "text",
        "id": "LeWU0mF6dB2-"
      },
      "source": [
        "# rBCM"
      ]
    },
    {
      "cell_type": "code",
      "metadata": {
        "ExecuteTime": {
          "end_time": "2019-03-04T17:13:56.292276Z",
          "start_time": "2019-03-04T17:13:55.234269Z"
        },
        "colab_type": "code",
        "id": "WRYfmL30dB3Q",
        "colab": {}
      },
      "source": [
        "# New test points to sample function from\n",
        "Xtest = np.linspace(-5, 5, 100)[:, None]\n",
        "# Get mean and covariance of optimised GP\n",
        "mean, Cov = dgp.predict_rbcm(Xtest)\n",
        "# Full GP\n",
        "fullmean, fullCov = full_gp.predict(Xtest)"
      ],
      "execution_count": 0,
      "outputs": []
    },
    {
      "cell_type": "code",
      "metadata": {
        "ExecuteTime": {
          "end_time": "2019-03-04T17:13:56.648339Z",
          "start_time": "2019-03-04T17:13:56.393279Z"
        },
        "colab_type": "code",
        "id": "xllwyrj4dB3o",
        "colab": {}
      },
      "source": [
        "# Setup the figure environment\n",
        "plt.figure(figsize=(18, 7))\n",
        "\n",
        "# Plot the GP fit mean and covariance\n",
        "plot_dgp(Xtest, mean.reshape(-1,1), Cov, fullmean.reshape(-1,1), fullCov, training_points=(X,y))\n",
        "# plt.plot(X, y, \"kx\", mew=2);\n",
        "plt.ylim(-2,2)\n",
        "# xv = [X.min() + (X.max()-X.min())*j/(n-1) for j in range(dgp.n)]\n",
        "\n",
        "# plt.vlines(xv, -2, 2);"
      ],
      "execution_count": 0,
      "outputs": []
    },
    {
      "cell_type": "markdown",
      "metadata": {
        "colab_type": "text",
        "id": "sWFPSiSVf24b"
      },
      "source": [
        "# 2D - data (...)"
      ]
    },
    {
      "cell_type": "code",
      "metadata": {
        "ExecuteTime": {
          "end_time": "2019-03-04T16:55:08.254387Z",
          "start_time": "2019-03-04T16:55:08.251044Z"
        },
        "colab_type": "code",
        "id": "uADXk4G1Rk7x",
        "colab": {}
      },
      "source": [
        "\n",
        "# Lambda function, f, the unknown function we are trying to predict\n",
        "f = lambda x: np.sin(x[:,0]) * np.sin(x[:,1])\n",
        "\n",
        "# Our test grid\n",
        "[Xi, Xj] = np.meshgrid(np.linspace(-np.pi, np.pi, 50), np.linspace(-np.pi, np.pi, 50))\n",
        "\n",
        "# Number of samples [YOU CAN PLAY AROUND WITH THE NUMBER OF RANDOM SAMPLES TO SEE HOW THE FIT IS AFFECTED]\n",
        "num_measurements = 120\n",
        "\n",
        "# Random sample locations (2-D)\n",
        "X2 = np.random.uniform(-np.pi, np.pi, (num_measurements, 2))\n",
        "y2 = f(X2)"
      ],
      "execution_count": 0,
      "outputs": []
    },
    {
      "cell_type": "code",
      "metadata": {
        "ExecuteTime": {
          "end_time": "2019-03-04T16:55:08.347792Z",
          "start_time": "2019-03-04T16:55:08.283410Z"
        },
        "colab_type": "code",
        "id": "RflkkIV3Rk8A",
        "colab": {}
      },
      "source": [
        "n = 3\n",
        "dgp =  DistributedGPRegression(X2,y2,n)"
      ],
      "execution_count": 0,
      "outputs": []
    },
    {
      "cell_type": "code",
      "metadata": {
        "ExecuteTime": {
          "end_time": "2019-03-04T16:55:15.958570Z",
          "start_time": "2019-03-04T16:55:08.420277Z"
        },
        "colab_type": "code",
        "id": "TQkbiDMWRk8M",
        "colab": {}
      },
      "source": [
        "dgp.train()"
      ],
      "execution_count": 0,
      "outputs": []
    },
    {
      "cell_type": "code",
      "metadata": {
        "ExecuteTime": {
          "end_time": "2019-03-04T16:55:16.604419Z",
          "start_time": "2019-03-04T16:55:16.015169Z"
        },
        "colab_type": "code",
        "id": "c092_u0XRk8j",
        "colab": {}
      },
      "source": [
        "from numpy import exp,arange\n",
        "from pylab import meshgrid,cm,imshow,contour,clabel,colorbar,axis,title,show\n",
        "\n",
        "# the function that I'm going to plot\n",
        "def z_func(x,y):\n",
        "  X = np.array([x,y])[None,:]\n",
        "  return f(X)[0]\n",
        " \n",
        "x = arange(-3.0,3.0,0.1)\n",
        "y = arange(-3.0,3.0,0.1)\n",
        "X,Y = meshgrid(x, y) # grid of point\n",
        "Z = z_func(X, Y) # evaluation of the function on the grid\n",
        "\n",
        "im = imshow(Z,cmap=cm.RdBu) # drawing the function\n",
        "# adding the Contour lines with labels\n",
        "cset = contour(Z,arange(-1,1.5,0.2),linewidths=2,cmap=cm.Set2)\n",
        "clabel(cset,inline=True,fmt='%1.1f',fontsize=10)\n",
        "colorbar(im) # adding the colobar on the right\n",
        "# latex fashion title\n",
        "title('$z=sin(x_1)*sin(x_2)$')\n",
        "show()"
      ],
      "execution_count": 0,
      "outputs": []
    },
    {
      "cell_type": "code",
      "metadata": {
        "ExecuteTime": {
          "end_time": "2019-03-04T16:55:16.635562Z",
          "start_time": "2019-03-04T16:55:16.632944Z"
        },
        "colab_type": "code",
        "id": "DaDqckf0141L",
        "colab": {}
      },
      "source": [
        "X_test = np.array([X.flatten(),Y.flatten()]).T\n",
        "# dgp.predict(X_test)"
      ],
      "execution_count": 0,
      "outputs": []
    },
    {
      "cell_type": "code",
      "metadata": {
        "colab_type": "code",
        "id": "Wuif3s4iGBLl",
        "colab": {}
      },
      "source": [
        "from mpl_toolkits.mplot3d import Axes3D\n",
        "from matplotlib import cm\n",
        "from matplotlib.ticker import LinearLocator, FormatStrFormatter\n",
        "import matplotlib.pyplot as plt\n",
        "\n",
        "fig = plt.figure()\n",
        "ax = fig.gca(projection='3d')\n",
        "surf = ax.plot_surface(X, Y, Z, rstride=1, cstride=1, \n",
        "                      cmap=cm.RdBu,linewidth=0, antialiased=False)\n",
        "\n",
        "ax.zaxis.set_major_locator(LinearLocator(10))\n",
        "ax.zaxis.set_major_formatter(FormatStrFormatter('%.02f'))\n",
        "\n",
        "fig.colorbar(surf, shrink=0.5, aspect=5)\n",
        "\n",
        "plt.show()"
      ],
      "execution_count": 0,
      "outputs": []
    },
    {
      "cell_type": "code",
      "metadata": {
        "colab_type": "code",
        "id": "lCJYCquppq_R",
        "colab": {}
      },
      "source": [
        ""
      ],
      "execution_count": 0,
      "outputs": []
    }
  ]
}